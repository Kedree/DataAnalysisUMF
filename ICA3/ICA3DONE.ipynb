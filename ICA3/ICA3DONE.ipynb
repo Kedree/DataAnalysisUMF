{
  "nbformat": 4,
  "nbformat_minor": 0,
  "metadata": {
    "colab": {
      "name": "ICA3DONE.ipynb",
      "provenance": [],
      "collapsed_sections": []
    },
    "kernelspec": {
      "name": "python3",
      "display_name": "Python 3"
    },
    "language_info": {
      "name": "python"
    }
  },
  "cells": [
    {
      "cell_type": "markdown",
      "source": [
        "#**ICA3**\n",
        "### Below is the work for ICA3, the given lecture is [here](https://github.com/Kedree/DataAnalysisUMF/blob/main/ICA3/PythonCrashinClass.ipynb) and the data is [here](https://github.com/Kedree/DataAnalysisUMF/blob/main/ICA3/lego_setsHB.csv)."
      ],
      "metadata": {
        "id": "6EIt9SSlnTdT"
      }
    },
    {
      "cell_type": "code",
      "source": [
        "filename = 'lego_setsHB.csv' # Where my data was located\n",
        "\n",
        "def findNthOccur(string , char, N): # Function that finds the nth occurence of a character and returns its position\n",
        "    occur = 0 # Iterative\n",
        "    for i in range(len(string)): # For every character in a string\n",
        "        if (string[i] == char): # If it matches the character\n",
        "            occur += 1 # Add one to the iterative occur\n",
        "        if (occur == N): # If we reached the desired number of occurences:\n",
        "            return i # Return the index of that desired location\n",
        "    return -1 # Otherwise give error -1\n",
        "\n",
        "price = {'pID': None, 'price': None} # Initializing the dictionaries, didn't \"really\" use them, annoying for printing, great for storing data and searching\n",
        "difficulty = {'pID': None, 'diff': None}\n",
        "\n",
        "pIDList = [] # My lists of the data to be used initialized\n",
        "priceList = []\n",
        "difficultyList = []\n",
        "\n",
        "lineNum = 0 # Keeps track of what line I am on so I can stop at 1000 lines\n",
        "\n",
        "with open(filename, 'r') as fl: # Opens the file in read only mode\n",
        "    next(fl) #will help you skip the first line in which we have the headers\n",
        "    while lineNum < 1000: # Makes sure we only read the first 1000 lines\n",
        "        line = fl.readline() # Get the line we are on and save it\n",
        "        priceList.append(line[:line.find(',')]) # Take the price which occurs from 0 to the first instance of a comma and store it in a list\n",
        "        pIDList.append(line[findNthOccur(line, ',', 4)+1:findNthOccur(line, ',', 5)]) # Take the pID which occurs from the 4th comma + 1 to the 5th and store it in a list, uses the defined function above to find the commas\n",
        "        difficultyList.append(line[findNthOccur(line, ',', 5)+1:findNthOccur(line, ',', 6)]) # Take the difficulty which occurs from the 5th comma + 1 to the 6th and store it in a list\n",
        "        lineNum+=1 # Moves onto the next line\n",
        "\n",
        "price.update({'pID':pIDList}) # This updates the dictionaries with the information\n",
        "price.update({'price':priceList}) # Sudden massive realization that I misunderstood how you wanted the dictionary to function:\n",
        "difficulty.update({'pID':pIDList}) # I assumed that it was 'pID'[75823, 75822, 75821...], 'price'[29.99, 19.99, 19.99...]\n",
        "difficulty.update({'diff':priceList}) # But now I think it was supposed to be '75823'[29.99], '75822'[19.99], '75821'[19.99]... \n",
        "#                                       Is this how you wanted it? I am still new to dictionaries\n",
        "index = 0 # Index for going through all the lists\n",
        "for i in range(len(priceList)): # For every list item:\n",
        "    print(\"ID: {pID} costs {price} and is of {difficulty} difficulty.\".format(pID = pIDList[i], price = priceList[i], difficulty = difficultyList[i])) # Tell me the id, cost, and difficulty\n"
      ],
      "metadata": {
        "id": "60HjKAwInSRD"
      },
      "execution_count": null,
      "outputs": []
    }
  ]
}