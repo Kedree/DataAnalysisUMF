{
  "nbformat": 4,
  "nbformat_minor": 0,
  "metadata": {
    "colab": {
      "name": "NASA NEO FINAL STORY QUESTIONS AND ANSWERS.ipynb",
      "provenance": [],
      "collapsed_sections": [],
      "include_colab_link": true
    },
    "kernelspec": {
      "name": "python3",
      "display_name": "Python 3"
    },
    "language_info": {
      "name": "python"
    }
  },
  "cells": [
    {
      "cell_type": "markdown",
      "metadata": {
        "id": "view-in-github",
        "colab_type": "text"
      },
      "source": [
        "<a href=\"https://colab.research.google.com/github/Kedree/DataAnalysisUMF/blob/main/FINAL/NASA_NEO_FINAL_STORY_QUESTIONS_AND_ANSWERS.ipynb\" target=\"_parent\"><img src=\"https://colab.research.google.com/assets/colab-badge.svg\" alt=\"Open In Colab\"/></a>"
      ]
    },
    {
      "cell_type": "markdown",
      "source": [
        "# The Natural Questions We Pose\n",
        "\n",
        "Look to the stars on a dark, unclouded night and you can see a glorious symphony of stars and planets illuminated brilliantly by the reflection of an unfathomably powerful ball of plasma that is billions of miles away from the ballet it exposes.\n",
        "\n",
        "What we can see is so joyous and fantastical, unexplored worlds, harsh yet alluring. But what about what we cannot see with our own eyes?\n",
        "\n",
        "It does not simply cease to exist! It is there, floating along ominously in the dark void. Only with specialized devices and cutting edge technology can we place a spotlight on these Near Earth Objects. Natural questions arise from basic instinct: Are they dangerous? How many are there, What are their attributes that can pose danger or use?\n",
        "\n",
        "We sought to shine a light on these questions with our visualizations and to answer these questions that seem only natural and pertinent to propose as our lives may depend on the answers.\n",
        "\n",
        "So let us be specific:\n",
        "\n",
        "1.  How many objects are there that are too small / dark to see with our eyes in our general vacinity?\n",
        "2.  How many objects are floating around near the Earth?\n",
        "3.  How are near Earth objects classified and organized?\n",
        "4.  How many of these near Earth asteroids are considered dangerous, if any at all?\n",
        "5.  Are there going to be any collisions with near Earth asteroids in the near future?\n",
        "6.  How certain are we about near Earth asteroid orbits?\n",
        "7.  Have we found all near Earth objects?\n",
        "8.  What would increase our certainty of near Earth asteroid orbits?\n",
        "9.  How much money does NASA get for finding near Earth objects and where does it go both strategically and physically?\n",
        "10. How does this compare to previous and future expected budgets?"
      ],
      "metadata": {
        "id": "NTVxC423i11n"
      }
    },
    {
      "cell_type": "code",
      "source": [
        "from google.colab import drive\n",
        "drive.mount('/content/drive')"
      ],
      "metadata": {
        "colab": {
          "base_uri": "https://localhost:8080/"
        },
        "id": "-oxPObvNVjHs",
        "outputId": "9d3a60e4-b838-4d4a-8b87-c489dec411a4"
      },
      "execution_count": null,
      "outputs": [
        {
          "output_type": "stream",
          "name": "stdout",
          "text": [
            "Mounted at /content/drive\n"
          ]
        }
      ]
    },
    {
      "cell_type": "code",
      "source": [
        "import pandas as pd\n",
        "import numpy as np\n",
        "import seaborn as sns\n",
        "import matplotlib.pyplot as plt\n",
        "import plotly.express as px\n",
        "import plotly.graph_objects as go"
      ],
      "metadata": {
        "id": "gI0ZpAo5VlCh"
      },
      "execution_count": null,
      "outputs": []
    },
    {
      "cell_type": "code",
      "source": [
        "ast = pd.read_csv(\"/content/drive/MyDrive/DATA/NEAMergedAbbreviated.csv\")"
      ],
      "metadata": {
        "id": "hTlF9tAIVmno"
      },
      "execution_count": null,
      "outputs": []
    },
    {
      "cell_type": "markdown",
      "source": [
        "## 1. How many objects are there that are too small to see with our eyes or are too far away?\n",
        "NASA displays a total of about 1,225,998 entries into their small body database or [SBDB](https://ssd.jpl.nasa.gov/tools/sbdb_query.html) for short. That may seem like a lot, and it is! But thankfully most of these are very far away!\n",
        "\n",
        "![Pic1](https://drive.google.com/uc?export=view&id=1gUfwD6xwmCjEVhDRdjYhl99NZLJOQeFY)"
      ],
      "metadata": {
        "id": "CAavv2uCZ0lW"
      }
    },
    {
      "cell_type": "markdown",
      "source": [
        "## 2. How many objects are floating around near the Earth?\n",
        "NASA is keeping track of about 29,599 near Earth objects or NEOs according to their [Small Bodies Data Base](https://ssd.jpl.nasa.gov/tools/sbdb_query.html). Of which: 29,405 are near Earth asteroids or NEAs, 117 are comets and 77 are comet fragments.\n",
        "\n",
        "![Pic2](https://drive.google.com/uc?export=view&id=1zll6p2lOMeLexn4cqD9Rk94WS7aidtBa)"
      ],
      "metadata": {
        "id": "LjGNV1vJSbg2"
      }
    },
    {
      "cell_type": "markdown",
      "source": [
        "## 3. How are NEOs classified and organized?\n",
        "NEOs have a clearly set, yet not always followed guideline for classification. NASA's [website](https://cneos.jpl.nasa.gov/about/neo_groups.html) (First Diagram Source) about NEO grouping has a great table for explaining how they are classified. q is perihelion distance, P is orbital period, Q is aphelion distance, a is semi-major axis distance, MOID is the minimum orbit intersection distance for Earth, and H is absolute magnitude. All distances are in AU or astronomical units. One AU is equal to the average distance from the Sun to the Earth thoughout its orbit.\n",
        "\n",
        "\n",
        "\n",
        "*   q: Perihelion Distance; Essentially an object's closest orbit distanced to the Sun\n",
        "*   Q: Aphelion Distance; Essentially an object's farthest orbit distance to the Sun\n",
        "*   P: Orbital Period; How long it takes for an object to complete an orbit, measured in years here\n",
        "*   a: Semi-Major Axis Distance; The mean distance from the Sun / One half of the major axis of the elliptical orbit\n",
        "*   MOID: Minimum Orbit Intersection Distance; [The minimum distance between the osculating orbits of two objects](http://www2.lowell.edu/users/elgb/moid.html), in this case the Earth and the object.\n",
        "\n",
        "\n",
        "\n",
        "![Pic3.1](https://drive.google.com/uc?export=view&id=1ycEhFOtfVoyXE5J5LkW01_vAu0snbmYb)\n",
        "\n",
        "![Pic3.2](https://drive.google.com/uc?export=view&id=1CNfLMv0remefSy3F4fC9D4hZ4kDqHKk7)\n",
        "\n",
        "* AMO: Amors;   a > 1 au, q > 0.983 au\n",
        "* APO: Apollos; a > 1 au, q < 1.017 au\n",
        "* ATE: Atens;   a < 1 au, Q > 0.983 au\n",
        "* ITE: Atiras;  a < 1 au, Q < 0.983 au\n",
        "\n",
        "![Pic3.3](https://drive.google.com/uc?export=view&id=1WQ0mNwmRnvzWpEDYdhevYUhK3E9LmT44)\n"
      ],
      "metadata": {
        "id": "F4rMUgqqZ00_"
      }
    },
    {
      "cell_type": "markdown",
      "source": [
        "## 4. How many of these NEAs are considered dangerous, if any at all?\n",
        "In order to be considered dangerous asteroids must be of a certain estimated size and have the ability to get closer to the Earth, specifically: an asteroid must have a MOID of 0.05 or less and an absolute magnitude of 22 or less (or brighter is the more correct term). According to NASA's [own words](https://cneos.jpl.nasa.gov/about/neo_groups.html):\n",
        "\n",
        " \"Asteroids that can't get any closer to the Earth (i.e., MOID) than 0.05 au (roughly 7,480,000 km or 4,650,000 mi) or are smaller than about 140 m (~500 ft) in diameter (i.e., H = 22.0 with assumed albedo of 14%) are not considered PHAs.\"\n",
        "\n",
        "One can find that in NASA's dataset there were 2,252 PHAs out of 28,863 that had close approach data with Earth within 0.5 AU and between 1900 and 2200 as of 08/15/2022. The vast majority of these are from APO asteroids which are \"Earth Passing NEAs with a semi-major axis distance greater than that of the Earth\"\n",
        "\n",
        "![Pic4.1](https://drive.google.com/uc?export=view&id=1P2NBk2H0l05IBbN2vKa_r2az8HZBb-L2)\n",
        "\n",
        "![Pic4.2](https://drive.google.com/uc?export=view&id=1-hEWOvyWMjHhkm3ek5du_tH1e1FS-Ae6)"
      ],
      "metadata": {
        "id": "MgQ8e2in0OBN"
      }
    },
    {
      "cell_type": "markdown",
      "source": [
        "## 5. Are there going to be any collisions with NEAs in the near future?\n",
        "This is a tricky question; recently, \"[A small asteroid hit Earth’s atmosphere](https://www.jpl.nasa.gov/news/nasa-system-predicts-impact-of-small-asteroid)\", but this was a predicted event. Asteroid 2022 EB5 marked the fifth time that any asteroid has been observed before it made impact with the Earth. The only caveat is that it was observed just two hours before it made contact with Earth's atmosphere. There are plenty of undiscovered asteroids floating around of various sizes and speeds. As of now according to NASA's [sentry monitering system](https://cneos.jpl.nasa.gov/sentry/) the highest single asteroid cumulative impact probability is about 5% by about 2100. This does not take into account the cumulative probability of all the other asteroids in the sentry database nor all the unobserved asteroids. There is not a single asteroid with greather than 0.00001% chance of impacting the Earth with a Torino scale greater than 0 which correlates to essentially no risk according to this NASA [poster](https://web.archive.org/web/20041230031246/http://neo.jpl.nasa.gov/torino_scale1.html).\n",
        "\n",
        "The following is a visualization of every close approach within 0.5 AU (the definition for a close approach to Earth) from 1900 to 2200. The axis are as follows: \n",
        "\n",
        "x-axis; Time of closest approach, these are exact dates altough each has uncertainty in the date of an asteroids closest approach. Closest approaches are just that, the closest approach to Earth out of all the approaches. If we were to plot every single close approach to Earth it would be impossible to see any individual event. \n",
        "\n",
        "y-axis; Distance of closest approach, the absolute estimated distance from the Earth at an asteroids closest approach. Whether the event is shown to have positive or negative distance is arbitrary and chosen at random such that half of the closest approaches are above and below the origin in order to increase visibility\n",
        "\n",
        "The blue dot represents the Earth as of 8/15/2022, the due date of our project. \n",
        "\n",
        "The color of a dot represents whether or not it is considered potentially hazardous by NASA as defined above.\n",
        "\n",
        "The size of each dot represents the relative velocity of the asteroid when it passes by the Earth in km/s. For reference 20 km/s is approximately 45,000 mph or about 58.3 times the speed of sound.\n",
        "\n",
        "The size of all dots including the Earth is not to scale., if it was the screen would be black.\n",
        "![Pic5.1](https://drive.google.com/uc?export=view&id=1-0jJwtQ2HsRbZt-AhVRfP22Ogoaz5xpz)\n",
        "\n",
        "The following plot is very similar to the above with a couple major distinctions:\n",
        "* The size of each dot is its diameter.\n",
        "* The total number of dots is much smaller due to the fact that many asteroids do not have a known diameter.\n",
        "\n",
        "![Pic5.2](https://drive.google.com/uc?export=view&id=17dlLdK4MvYx5SBENVF7QkQ2D84PIu8Uo)\n",
        "\n",
        "![Pic5.3](https://drive.google.com/uc?export=view&id=1ujjwx7R809JSTjj8F6f5B0_wNBI4Voxt)\n",
        "\n"
      ],
      "metadata": {
        "id": "jH89HTxKz5zr"
      }
    },
    {
      "cell_type": "markdown",
      "source": [
        "## 6. How certain are we about NEA orbits?\n",
        "\n",
        "NASA defines orbit certainty in a complex way, 0 to 9 where 0 is very certain and 9 very uncertain; \"[it is the anticipated longitudinal uncertainty in the minor planet's mean anomaly after 10 years](https://en.wikipedia.org/wiki/Uncertainty_parameter)\", this is explained in more detail below:\n",
        "\n",
        "The scale is logarithmic and relies on a complex formula:\n",
        "\n",
        "\n",
        "with\n",
        "\n",
        "$r=(Δτ⋅e+10⋅\\dfrac{ΔP}{P})⋅3600⋅3⋅\\dfrac{k_o}{P}$\n",
        "\n",
        "Δτ: uncertainty in the perihelion time in days\n",
        "\n",
        "e: eccentricity of the determined orbit\n",
        "\n",
        "P: orbital period in years\n",
        "\n",
        "ΔP: uncertainty in the orbital period in days\n",
        "\n",
        "$k_o$: $0.01720209895 ⋅ \\dfrac{180}{π}$, Gaussian gravitational constant, converted to degrees \n",
        "\n",
        "The resulting number is made into an integer and any value below 0 is set to 0 and any number above 9 is set to 9. \n",
        "\n",
        "The [resulting table](https://en.wikipedia.org/wiki/Uncertainty_parameter) in degrees is shown below:\n",
        "\n",
        "![Pic6.1](https://drive.google.com/uc?export=view&id=1FFTM2SpMyDm_lRf83kkwJfaWvh2o8JSW)\n",
        "\n",
        "\"Where [648 000 is the number of arc seconds in a half circle, so a value greater than 9 would mean that we would have basically no idea where the object will be in 10 years.](https://en.wikipedia.org/wiki/Uncertainty_parameter)\"\n",
        "\n",
        "With slightly more understanding of certainty codes of orbits and a lot more pain the brain lets show the distribution of uncertainty codes by year of first observation. What follows is a stacked histogram:\n",
        "\n",
        "![Pic6.2](https://drive.google.com/uc?export=view&id=1z_IgZ5pfeqo8ahptCILnaE6rvIz4PGkr)\n",
        "\n",
        "As you can see more recently discovered asteroids actually have ***more uncertainty*** than asteroids discovered earlier! This seems to indicate that our discoveries are not entirely technology dependent. The primary reasons for this figure's revelation are explored in question 9.\n"
      ],
      "metadata": {
        "id": "IEK77ScSz-_r"
      }
    },
    {
      "cell_type": "markdown",
      "source": [
        "## 7. Have we found all NEOs?\n",
        "\n",
        "[www.vox.com/a/asteroid-day](https://www.vox.com/a/asteroid-day) \n",
        "\n",
        "As you have probably figured out by now, certainly not! According to NASA's \n",
        "[website](https://cneos.jpl.nasa.gov/stats/): About 90 % of all NEAs with estimated size of 1km or more have been found, more specificly the following diagram and explanation can be found on NASA's [website](https://cneos.jpl.nasa.gov/stats/) as well:\n",
        "\n",
        "\n",
        "You can think of the percentages as the brown out of green which represents the known asteroid count out of the predicted total. We will not go much into how these predicted totals are created but we have have been told that it is similar to fishing tagged fish, if 90% percent of the fish you fish in a week is tagged then you probably have 90% of the fish tagged.\n",
        "![Pic7.1](https://drive.google.com/uc?export=view&id=1DLLDvgw0AVwCgsdYUQeOxuKZhPH-CCl2)\n",
        "\n",
        "Only about 20-30% of asteroids of minimum size 100m [have been discovered](https://neos.arizona.edu/science/asteroid-counts). It seems that an asteroid the size of a football field has the ability to damage a large area and has done so recently! According to this [website](https://neos.arizona.edu/science/asteroid-counts): \"The object that caused the 1908 Siberian Tunguska blast, which caused damage to a city-sized region, is thought to have been between 30-100 m in diameter.\" [Recently, a 20 meter rock exploded over Russia causing damage to the local area and created a fireball with the force of a nuclear explosion](https://www.vox.com/a/asteroid-day)\n",
        "\n",
        "![Pic7.2](https://drive.google.com/uc?export=view&id=1x0hd0YwR-j-g624pwOZsjQpSy5U3TpM8)\n",
        "\n",
        "Below we can see a [NASA graphic](https://trumpwhitehouse.archives.gov/wp-content/uploads/2021/01/NEO-Impact-Threat-Protocols-Jan2021.pdf) for estimated damage of varying sizes of asteroids:\n",
        "\n",
        "![Pic7.3](https://drive.google.com/uc?export=view&id=1_IAggZosbm_EvcnxcHA4w758JBv81yuo)\n"
      ],
      "metadata": {
        "id": "ApuhpVrT6hqu"
      }
    },
    {
      "cell_type": "markdown",
      "source": [
        "## 8. What would increase our certainty of NEA orbits?\n",
        "\n",
        "One of the primary ways to increase certainty is thankfully one of the \"simplest\": just observe the asteroid more times! This is more complex in reality however, as radars have difficulties constantly watching the same part of the sky and always receiving a bright image to watch the suspected NEOs move.\n",
        "\n",
        "![Pic8.1](https://drive.google.com/uc?export=view&id=17RqvxO4L-kjZ7ibqDtPA3HTqVZMgzBQR)\n",
        "\n",
        "[NASA is currently seeking](https://cneos.jpl.nasa.gov/doc/2017_neo_sdt_final_e-version.pdf) a space based infrared telescope that would dramatically increase the speed of finding asteroids sized 140m+ but the cost of the telescope and maintenance alone would be more than 10 times the budget alotted for planetary science!"
      ],
      "metadata": {
        "id": "OCM92YYJ6vqV"
      }
    },
    {
      "cell_type": "markdown",
      "source": [
        "#9. How much money does NASA get for finding near Earth objects and where does it go both strategically and physically?\n",
        "\n",
        "NASA's total budget for 2022 was about 24 billion USD as can be see below. This accounts for about 0.5% of the total federal budget.\n",
        "\n",
        "![Pic9.1](https://drive.google.com/uc?export=view&id=1gsGSO_4OzXpk2LufegzjaA4PibGHTJUb)\n",
        "\n",
        "We can further break down NASA's budget in order to see where they are spending their money, the slice that is exploded serves as the total for the next figure. What we care about for this project is the NEO survey program specifically.\n",
        "![Pic9.2](https://drive.google.com/uc?export=view&id=1-Rxk-p7LLpIK5YtMup9MWZr391mc4zl7)\n",
        "\n",
        "\n",
        "![Pic9.3](https://drive.google.com/uc?export=view&id=1O3VutAYHFxj9VgAl2olPp7uatHrVKif8)\n",
        "![Pic9.4](https://drive.google.com/uc?export=view&id=1vMQoglOIkT1nLYlvfmIVeNOc6vn5KjMx)\n",
        "\n",
        "We can see that the NEO survey program constitutes \\$143M as of 2022, this amounts to about 0.0026% of the total federal budget. This is comparable to the upfront cost of a single F-35B fighter jet at \\$135.8 M. This does not take into account the extremely expensive cost of maintenance which according to [this](https://armscontrolcenter.org/f-35-joint-strike-fighter-costs-challenges/) website can ammount to $1.3 Trillion over a 66 year life cycle, planes and jets are expensive to maintain!\n",
        "![Pic9.5](https://drive.google.com/uc?export=view&id=1XTeiI5dRiqbA4dpxt0X9o4ozwMHF5NTq)\n",
        "\n",
        "It is important to note that money spent on departments does not simply get deleted, it is used to purchase goods and services and goes to particular regions in the United States and abroad. Furthermore, NASA must hire people to work for them and as such creates jobs!\n",
        "![Pic9.6](https://drive.google.com/uc?export=view&id=13Hm_hvaI6GBFAeHsAqFEU2S1vu9ZMRBu)"
      ],
      "metadata": {
        "id": "FG-BJUa0Wc6O"
      }
    },
    {
      "cell_type": "markdown",
      "source": [
        "# 10.  How does this compare to previous and future expected budgets?\n",
        "\n",
        "NASA's budget has been on a steady, near constant decline since the 60s of the moon race.\n",
        "![Pic10.1](https://drive.google.com/uc?export=view&id=1pBjs7DVBUBzKhltroNmE67yEtFAyQG-J)\n",
        "\n",
        "NASA's planetary defense team could potentially save millions of lives by detecting and deflecting an asteroid of terrifying capacity with a project like DART. The sooner we find such an asteroid the more time we have to save lives or prevent mass evacuation which could seriously harm the local economy. NASA needs to have at least 3-10 years if even considering a project like DART on a dangerous asteroid as just a bump of half a centimeter per second can throw off an asteroid's impact from about 10 years out.\n",
        "\n",
        "![Pic10.2](https://drive.google.com/uc?export=view&id=1lMcUhSwq4oVapZA7_W5Cssv0GtLc0ePq)\n",
        "\n",
        "![Pic10.3](https://drive.google.com/uc?export=view&id=1QFu2bhEld9soTtHMEDuRaOYQ1ckshBu3)\n",
        "\n",
        "NASA has stated that they are not technology bound at all, it is entirely fiscal problems they are beset by.\n",
        "\n",
        "NASA states that a space based telescope would provide a better warning system / NEO cataloging and at a faster rate of discovery than ground based telescopes which will still accomplish the goal of finding 90% of NEAs sized 140 m+ within 9-25 years. Space based telescopes are also better at warning of Long Period Comets which are near immpossible to catalogue beforehand and could be devastating. A space telescope would optimally cost about 3-4x that of a ground based telescope while providing a similar amount of calculated risk after 10 years of running: ~\\$250M vs ~\\$950M. You may have noticed a problem; this is somewhere between 2-7 times their current budget! Next year the project is deemed to have only about $110M exaserbating the problem further."
      ],
      "metadata": {
        "id": "Ke3ECa3L3sIx"
      }
    },
    {
      "cell_type": "markdown",
      "source": [
        "There seems to be one final question...\n",
        "\n",
        "### ***What do we do?***\n",
        "\n",
        "Can we afford to pay for telecscopes that will provide safety and ease of mind for millions world-wide? Or do we roll the dice and ignore the potential problem?\n",
        "\n",
        "This question falls mainly upon congress, not the millions of Americans they represent or even the President! The president merely suggests the budget and is entirely beholden to what congress wants as the President can only deny a budget, not push it through. \n",
        "\n",
        "If you feel the urge to do something, either out of fear or out of courage please consider contacting a local representative!\n",
        "\n",
        "Literally just three dollars from every American could fund a space telscope which would provide safety for the world as a whole. \n",
        "\n",
        "Many of these telescopes would even pay for themselves and more over the course of 20 years according to NASA such as the Infrared 1m space telescope located at L1.\n",
        "\n",
        "![Pic11.1](https://drive.google.com/uc?export=view&id=1Ig2dDU5fZb3fCwm1lI2eSW6clIe9UhS9)\n",
        "![Pic11.2](https://drive.google.com/uc?export=view&id=1KZHSHo5A-fBvO4MNUH2b5xysyidyj9_b)\n",
        "![Pic11.3](https://drive.google.com/uc?export=view&id=1ryK2LTOXGSJJ8v2n2smYlzdBC8Ei2moT)\n",
        "\n",
        "\n",
        "All of the above info comes from: https://cneos.jpl.nasa.gov/doc/2017_neo_sdt_final_e-version.pdf\n",
        "\n",
        "I think that the choice is obvious, do you?"
      ],
      "metadata": {
        "id": "24jYoTOa4fZK"
      }
    },
    {
      "cell_type": "code",
      "source": [
        ""
      ],
      "metadata": {
        "id": "-K0EV9594eUi"
      },
      "execution_count": null,
      "outputs": []
    }
  ]
}