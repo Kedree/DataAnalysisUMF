{
  "nbformat": 4,
  "nbformat_minor": 0,
  "metadata": {
    "colab": {
      "name": "HW1DONE.ipynb",
      "provenance": [],
      "mount_file_id": "1ERsHdaI2MumdZNa4gj3TgYRTJtATqWfD",
      "authorship_tag": "ABX9TyO+xzmGGtTD64nPOcKrucud",
      "include_colab_link": true
    },
    "kernelspec": {
      "name": "python3",
      "display_name": "Python 3"
    },
    "language_info": {
      "name": "python"
    }
  },
  "cells": [
    {
      "cell_type": "markdown",
      "metadata": {
        "id": "view-in-github",
        "colab_type": "text"
      },
      "source": [
        "<a href=\"https://colab.research.google.com/github/Kedree/DataAnalysisUMF/blob/main/HW1/HW1DONE.ipynb\" target=\"_parent\"><img src=\"https://colab.research.google.com/assets/colab-badge.svg\" alt=\"Open In Colab\"/></a>"
      ]
    },
    {
      "cell_type": "markdown",
      "source": [
        "# HW1 for Data Analysis\n",
        "\n",
        "### Instructions:\n",
        "Use pandas to read the olympic_medals.csv from the DATA folder on Google Drive. Then perform the followings by\n",
        "using pandas and/or Python built-in functions.\n",
        "\n",
        "(a) Find the size of the data frame. How many rows, how many columns?\n",
        "\n",
        "(b) Use the appropriate function to report the data types for all columns.\n",
        "\n",
        "(c) Find how many unique cities matches were held at. (Hint: unique( ). For instance, the following example tells\n",
        "how many unique Events held:)\n",
        "len(medals['Event'].unique())\n",
        "\n",
        "(d) Find how many medals the USA team won in total.\n",
        "\n",
        "(e) Find the total number of medals for each Nationality. (Hint: please search for groupby() function with count.\n",
        "\n",
        "For instance, the following example counts at how many locations each event was held. )\n",
        "medals.groupby(by='Event')['Location'].count()"
      ],
      "metadata": {
        "id": "72CljdSKxp0p"
      }
    },
    {
      "cell_type": "code",
      "execution_count": 1,
      "metadata": {
        "id": "GSow5tNxxng-"
      },
      "outputs": [],
      "source": [
        "import pandas as pd"
      ]
    },
    {
      "cell_type": "code",
      "source": [
        "df = pd.read_csv(\"/content/drive/MyDrive/DATA/olympic_medals.csv\")\n",
        "df.head()"
      ],
      "metadata": {
        "colab": {
          "base_uri": "https://localhost:8080/",
          "height": 206
        },
        "id": "t59gsqQcyblZ",
        "outputId": "b0abea1e-f8e5-45aa-8935-36793d3654bf"
      },
      "execution_count": 2,
      "outputs": [
        {
          "output_type": "execute_result",
          "data": {
            "text/plain": [
              "  Gender       Event Location  Year Medal                   Name Nationality  \\\n",
              "0      M  10000M Men      Rio  2016     G          Mohamed FARAH         GBR   \n",
              "1      M  10000M Men      Rio  2016     S  Paul Kipngetich TANUI         KEN   \n",
              "2      M  10000M Men      Rio  2016     B           Tamirat TOLA         ETH   \n",
              "3      M  10000M Men  Beijing  2008     G        Kenenisa BEKELE         ETH   \n",
              "4      M  10000M Men  Beijing  2008     S         Sileshi SIHINE         ETH   \n",
              "\n",
              "     Result  \n",
              "0  25:05.17  \n",
              "1  27:05.64  \n",
              "2  27:06.26  \n",
              "3  27:01.17  \n",
              "4  27:02.77  "
            ],
            "text/html": [
              "\n",
              "  <div id=\"df-85b10138-15cc-4989-94db-38f4b726dcec\">\n",
              "    <div class=\"colab-df-container\">\n",
              "      <div>\n",
              "<style scoped>\n",
              "    .dataframe tbody tr th:only-of-type {\n",
              "        vertical-align: middle;\n",
              "    }\n",
              "\n",
              "    .dataframe tbody tr th {\n",
              "        vertical-align: top;\n",
              "    }\n",
              "\n",
              "    .dataframe thead th {\n",
              "        text-align: right;\n",
              "    }\n",
              "</style>\n",
              "<table border=\"1\" class=\"dataframe\">\n",
              "  <thead>\n",
              "    <tr style=\"text-align: right;\">\n",
              "      <th></th>\n",
              "      <th>Gender</th>\n",
              "      <th>Event</th>\n",
              "      <th>Location</th>\n",
              "      <th>Year</th>\n",
              "      <th>Medal</th>\n",
              "      <th>Name</th>\n",
              "      <th>Nationality</th>\n",
              "      <th>Result</th>\n",
              "    </tr>\n",
              "  </thead>\n",
              "  <tbody>\n",
              "    <tr>\n",
              "      <th>0</th>\n",
              "      <td>M</td>\n",
              "      <td>10000M Men</td>\n",
              "      <td>Rio</td>\n",
              "      <td>2016</td>\n",
              "      <td>G</td>\n",
              "      <td>Mohamed FARAH</td>\n",
              "      <td>GBR</td>\n",
              "      <td>25:05.17</td>\n",
              "    </tr>\n",
              "    <tr>\n",
              "      <th>1</th>\n",
              "      <td>M</td>\n",
              "      <td>10000M Men</td>\n",
              "      <td>Rio</td>\n",
              "      <td>2016</td>\n",
              "      <td>S</td>\n",
              "      <td>Paul Kipngetich TANUI</td>\n",
              "      <td>KEN</td>\n",
              "      <td>27:05.64</td>\n",
              "    </tr>\n",
              "    <tr>\n",
              "      <th>2</th>\n",
              "      <td>M</td>\n",
              "      <td>10000M Men</td>\n",
              "      <td>Rio</td>\n",
              "      <td>2016</td>\n",
              "      <td>B</td>\n",
              "      <td>Tamirat TOLA</td>\n",
              "      <td>ETH</td>\n",
              "      <td>27:06.26</td>\n",
              "    </tr>\n",
              "    <tr>\n",
              "      <th>3</th>\n",
              "      <td>M</td>\n",
              "      <td>10000M Men</td>\n",
              "      <td>Beijing</td>\n",
              "      <td>2008</td>\n",
              "      <td>G</td>\n",
              "      <td>Kenenisa BEKELE</td>\n",
              "      <td>ETH</td>\n",
              "      <td>27:01.17</td>\n",
              "    </tr>\n",
              "    <tr>\n",
              "      <th>4</th>\n",
              "      <td>M</td>\n",
              "      <td>10000M Men</td>\n",
              "      <td>Beijing</td>\n",
              "      <td>2008</td>\n",
              "      <td>S</td>\n",
              "      <td>Sileshi SIHINE</td>\n",
              "      <td>ETH</td>\n",
              "      <td>27:02.77</td>\n",
              "    </tr>\n",
              "  </tbody>\n",
              "</table>\n",
              "</div>\n",
              "      <button class=\"colab-df-convert\" onclick=\"convertToInteractive('df-85b10138-15cc-4989-94db-38f4b726dcec')\"\n",
              "              title=\"Convert this dataframe to an interactive table.\"\n",
              "              style=\"display:none;\">\n",
              "        \n",
              "  <svg xmlns=\"http://www.w3.org/2000/svg\" height=\"24px\"viewBox=\"0 0 24 24\"\n",
              "       width=\"24px\">\n",
              "    <path d=\"M0 0h24v24H0V0z\" fill=\"none\"/>\n",
              "    <path d=\"M18.56 5.44l.94 2.06.94-2.06 2.06-.94-2.06-.94-.94-2.06-.94 2.06-2.06.94zm-11 1L8.5 8.5l.94-2.06 2.06-.94-2.06-.94L8.5 2.5l-.94 2.06-2.06.94zm10 10l.94 2.06.94-2.06 2.06-.94-2.06-.94-.94-2.06-.94 2.06-2.06.94z\"/><path d=\"M17.41 7.96l-1.37-1.37c-.4-.4-.92-.59-1.43-.59-.52 0-1.04.2-1.43.59L10.3 9.45l-7.72 7.72c-.78.78-.78 2.05 0 2.83L4 21.41c.39.39.9.59 1.41.59.51 0 1.02-.2 1.41-.59l7.78-7.78 2.81-2.81c.8-.78.8-2.07 0-2.86zM5.41 20L4 18.59l7.72-7.72 1.47 1.35L5.41 20z\"/>\n",
              "  </svg>\n",
              "      </button>\n",
              "      \n",
              "  <style>\n",
              "    .colab-df-container {\n",
              "      display:flex;\n",
              "      flex-wrap:wrap;\n",
              "      gap: 12px;\n",
              "    }\n",
              "\n",
              "    .colab-df-convert {\n",
              "      background-color: #E8F0FE;\n",
              "      border: none;\n",
              "      border-radius: 50%;\n",
              "      cursor: pointer;\n",
              "      display: none;\n",
              "      fill: #1967D2;\n",
              "      height: 32px;\n",
              "      padding: 0 0 0 0;\n",
              "      width: 32px;\n",
              "    }\n",
              "\n",
              "    .colab-df-convert:hover {\n",
              "      background-color: #E2EBFA;\n",
              "      box-shadow: 0px 1px 2px rgba(60, 64, 67, 0.3), 0px 1px 3px 1px rgba(60, 64, 67, 0.15);\n",
              "      fill: #174EA6;\n",
              "    }\n",
              "\n",
              "    [theme=dark] .colab-df-convert {\n",
              "      background-color: #3B4455;\n",
              "      fill: #D2E3FC;\n",
              "    }\n",
              "\n",
              "    [theme=dark] .colab-df-convert:hover {\n",
              "      background-color: #434B5C;\n",
              "      box-shadow: 0px 1px 3px 1px rgba(0, 0, 0, 0.15);\n",
              "      filter: drop-shadow(0px 1px 2px rgba(0, 0, 0, 0.3));\n",
              "      fill: #FFFFFF;\n",
              "    }\n",
              "  </style>\n",
              "\n",
              "      <script>\n",
              "        const buttonEl =\n",
              "          document.querySelector('#df-85b10138-15cc-4989-94db-38f4b726dcec button.colab-df-convert');\n",
              "        buttonEl.style.display =\n",
              "          google.colab.kernel.accessAllowed ? 'block' : 'none';\n",
              "\n",
              "        async function convertToInteractive(key) {\n",
              "          const element = document.querySelector('#df-85b10138-15cc-4989-94db-38f4b726dcec');\n",
              "          const dataTable =\n",
              "            await google.colab.kernel.invokeFunction('convertToInteractive',\n",
              "                                                     [key], {});\n",
              "          if (!dataTable) return;\n",
              "\n",
              "          const docLinkHtml = 'Like what you see? Visit the ' +\n",
              "            '<a target=\"_blank\" href=https://colab.research.google.com/notebooks/data_table.ipynb>data table notebook</a>'\n",
              "            + ' to learn more about interactive tables.';\n",
              "          element.innerHTML = '';\n",
              "          dataTable['output_type'] = 'display_data';\n",
              "          await google.colab.output.renderOutput(dataTable, element);\n",
              "          const docLink = document.createElement('div');\n",
              "          docLink.innerHTML = docLinkHtml;\n",
              "          element.appendChild(docLink);\n",
              "        }\n",
              "      </script>\n",
              "    </div>\n",
              "  </div>\n",
              "  "
            ]
          },
          "metadata": {},
          "execution_count": 2
        }
      ]
    },
    {
      "cell_type": "code",
      "source": [
        "df.shape[0] # 2394 ROW"
      ],
      "metadata": {
        "colab": {
          "base_uri": "https://localhost:8080/"
        },
        "id": "c3MepNfxzXPe",
        "outputId": "3c7bdd44-34cf-4940-b0ac-b1256a8aa8d7"
      },
      "execution_count": 36,
      "outputs": [
        {
          "output_type": "execute_result",
          "data": {
            "text/plain": [
              "2394"
            ]
          },
          "metadata": {},
          "execution_count": 36
        }
      ]
    },
    {
      "cell_type": "code",
      "source": [
        "df.shape[1] # 8 COL"
      ],
      "metadata": {
        "colab": {
          "base_uri": "https://localhost:8080/"
        },
        "id": "z9Nl6B14zaPU",
        "outputId": "85ad8f08-34fc-4db6-b59b-99cd7ea05e34"
      },
      "execution_count": 35,
      "outputs": [
        {
          "output_type": "execute_result",
          "data": {
            "text/plain": [
              "8"
            ]
          },
          "metadata": {},
          "execution_count": 35
        }
      ]
    },
    {
      "cell_type": "code",
      "source": [
        "df.info() # 8 COL, 2394 ROW + Headers # Data Types are as seen below"
      ],
      "metadata": {
        "colab": {
          "base_uri": "https://localhost:8080/"
        },
        "id": "Qm3YXONXykhn",
        "outputId": "0f7bd870-a897-4c12-c61b-432846d08c8e"
      },
      "execution_count": 34,
      "outputs": [
        {
          "output_type": "stream",
          "name": "stdout",
          "text": [
            "<class 'pandas.core.frame.DataFrame'>\n",
            "RangeIndex: 2394 entries, 0 to 2393\n",
            "Data columns (total 8 columns):\n",
            " #   Column       Non-Null Count  Dtype \n",
            "---  ------       --------------  ----- \n",
            " 0   Gender       2394 non-null   object\n",
            " 1   Event        2394 non-null   object\n",
            " 2   Location     2394 non-null   object\n",
            " 3   Year         2394 non-null   int64 \n",
            " 4   Medal        2394 non-null   object\n",
            " 5   Name         2164 non-null   object\n",
            " 6   Nationality  2394 non-null   object\n",
            " 7   Result       2394 non-null   object\n",
            "dtypes: int64(1), object(7)\n",
            "memory usage: 149.8+ KB\n"
          ]
        }
      ]
    },
    {
      "cell_type": "code",
      "source": [
        "len(pd.unique(df['Location']))"
      ],
      "metadata": {
        "colab": {
          "base_uri": "https://localhost:8080/"
        },
        "id": "ZPiKmvcfznVO",
        "outputId": "c274a2df-27e7-4fc9-e66a-7cd2875358d2"
      },
      "execution_count": 17,
      "outputs": [
        {
          "output_type": "execute_result",
          "data": {
            "text/plain": [
              "23"
            ]
          },
          "metadata": {},
          "execution_count": 17
        }
      ]
    },
    {
      "cell_type": "code",
      "source": [
        "sum(df['Nationality']== 'USA')"
      ],
      "metadata": {
        "colab": {
          "base_uri": "https://localhost:8080/"
        },
        "id": "2xiSF4F50bRd",
        "outputId": "953e89f0-f3b3-496b-846f-865344fd986c"
      },
      "execution_count": 24,
      "outputs": [
        {
          "output_type": "execute_result",
          "data": {
            "text/plain": [
              "638"
            ]
          },
          "metadata": {},
          "execution_count": 24
        }
      ]
    },
    {
      "cell_type": "code",
      "source": [
        "df.groupby(by='Nationality')['Nationality'].count()"
      ],
      "metadata": {
        "colab": {
          "base_uri": "https://localhost:8080/"
        },
        "id": "ddvnghFw1g1w",
        "outputId": "e4a69a7c-e0c2-4ff8-ecfb-b9ffde9b0783"
      },
      "execution_count": 32,
      "outputs": [
        {
          "output_type": "execute_result",
          "data": {
            "text/plain": [
              "Nationality\n",
              "ALG      9\n",
              "ARG      4\n",
              "AUS     57\n",
              "AUT      4\n",
              "BAH     12\n",
              "      ... \n",
              "URS    131\n",
              "USA    638\n",
              "VEN      2\n",
              "YUG      1\n",
              "ZAM      1\n",
              "Name: Nationality, Length: 97, dtype: int64"
            ]
          },
          "metadata": {},
          "execution_count": 32
        }
      ]
    },
    {
      "cell_type": "code",
      "source": [
        "(df.groupby(by='Nationality')['Nationality'].count()).nlargest(5) # For fun"
      ],
      "metadata": {
        "colab": {
          "base_uri": "https://localhost:8080/"
        },
        "id": "z67CP8u02gMi",
        "outputId": "5d4e1a54-e92f-4694-db06-ebc2cd2f2d2c"
      },
      "execution_count": 33,
      "outputs": [
        {
          "output_type": "execute_result",
          "data": {
            "text/plain": [
              "Nationality\n",
              "USA    638\n",
              "GBR    161\n",
              "URS    131\n",
              "KEN     87\n",
              "GDR     76\n",
              "Name: Nationality, dtype: int64"
            ]
          },
          "metadata": {},
          "execution_count": 33
        }
      ]
    }
  ]
}